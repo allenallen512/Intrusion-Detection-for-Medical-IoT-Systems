{
 "cells": [
  {
   "cell_type": "code",
   "execution_count": 17,
   "metadata": {},
   "outputs": [
    {
     "data": {
      "text/plain": [
       "'\\nall written function are here \\n\\n\\n\\n'"
      ]
     },
     "execution_count": 17,
     "metadata": {},
     "output_type": "execute_result"
    }
   ],
   "source": [
    "'''\n",
    "all written function are here \n",
    "\n",
    "\n",
    "\n",
    "'''"
   ]
  },
  {
   "cell_type": "code",
   "execution_count": 18,
   "metadata": {},
   "outputs": [],
   "source": [
    "from sklearn.decomposition import PCA\n",
    "from sklearn.preprocessing import StandardScaler\n",
    "import pandas as pd\n",
    "from sklearn.cluster import KMeans\n",
    "from sklearn.metrics import confusion_matrix, classification_report\n",
    "import matplotlib.pyplot as plt\n",
    "from sklearn.model_selection import train_test_split\n",
    "from sklearn.metrics import accuracy_score\n",
    "import pandas as pd\n",
    "from sklearn.model_selection import train_test_split\n",
    "from sklearn.ensemble import RandomForestClassifier\n",
    "from sklearn.metrics import classification_report, confusion_matrix\n",
    "import seaborn as sns\n",
    "import matplotlib.pyplot as plt"
   ]
  },
  {
   "cell_type": "code",
   "execution_count": 43,
   "metadata": {},
   "outputs": [
    {
     "name": "stdout",
     "output_type": "stream",
     "text": [
      "Excluded columns (including label): {'Label', 'Attack Category', 'SrcMac', 'DstMac', 'Dir', 'Flgs', 'SrcAddr', 'DstAddr', 'Sport'}\n"
     ]
    }
   ],
   "source": [
    "# cleaning and pre processing data\n",
    "\n",
    "dataPath = \"data.csv\"\n",
    "data = pd.read_csv(dataPath)\n",
    "\n",
    "# seperating features\n",
    "label_column = 'Label' \n",
    "features = data.drop(columns=[label_column]).select_dtypes(include=['float64', 'int64'])\n",
    "Labels = data[label_column]\n",
    "# Add this to see excluded columns\n",
    "excluded_columns = set(data.columns) - set(features.columns)\n",
    "print(\"Excluded columns (including label):\", excluded_columns)\n",
    "\n",
    "#standardize\n",
    "scaler = StandardScaler()\n",
    "data_scaled = scaler.fit_transform(features)"
   ]
  },
  {
   "cell_type": "code",
   "execution_count": null,
   "metadata": {},
   "outputs": [],
   "source": [
    "def print_classification_results(confusion_matrix, classification_report, accuracy):\n",
    "    #prints the cm results, classification report, and accuracy\n",
    "    tn, fp, fn, tp = confusion_matrix.ravel()\n",
    "    total = tn + fp + fn + tp\n",
    "    \n",
    "    # Calculate percentages\n",
    "    tn_pct = (tn/total) * 100\n",
    "    fp_pct = (fp/total) * 100\n",
    "    fn_pct = (fn/total) * 100\n",
    "    tp_pct = (tp/total) * 100\n",
    "    \n",
    "    # Print confusion matrix results\n",
    "    print(\"\\nConfusion Matrix Results:\")\n",
    "    print(f\"\"\"\n",
    "    True Negatives: {tn} ({tn_pct:.2f}%)\n",
    "    False Positives: {fp} ({fp_pct:.2f}%)\n",
    "    False Negatives: {fn} ({fn_pct:.2f}%)\n",
    "    True Positives: {tp} ({tp_pct:.2f}%)\n",
    "    \"\"\")\n",
    "    \n",
    "    # Print classification report\n",
    "    print(\"\\nClassification Report:\")\n",
    "    print(classification_report)\n",
    "    \n",
    "    # Print accuracy\n",
    "    print(f\"\\nModel Accuracy: {accuracy:.2%}\")\n"
   ]
  },
  {
   "cell_type": "code",
   "execution_count": null,
   "metadata": {},
   "outputs": [],
   "source": [
    "def find_top_n_features(data_scaled, features, n):\n",
    "    \n",
    "    # -----------------applying PCA-----------------------\n",
    "    pca = PCA(n_components=n)\n",
    "    pca.fit(data_scaled)\n",
    "    \n",
    "    # Getting the top n features based on explained variance\n",
    "    components = pca.components_\n",
    "    #doesprint(components)\n",
    "    explained_variance = pca.explained_variance_ratio_\n",
    "    \n",
    "    feature_importance = pd.DataFrame()\n",
    "    for i in range(n):\n",
    "        feature_importance[f'PC{i+1}'] = abs(components[i])\n",
    "    \n",
    "    feature_importance.index = features.columns\n",
    "    \n",
    "    # Getting overall importance by summing across components\n",
    "    feature_importance['Overall_Importance'] = feature_importance.sum(axis=1)\n",
    "    feature_importance = feature_importance.sort_values('Overall_Importance', ascending=False)\n",
    "    \n",
    "    # results\n",
    "    print(\"\\nFeature Importance by Principal Component:\")\n",
    "    pd.set_option('display.float_format', lambda x: '%.3f' % x)  # Format to 3 decimal places\n",
    "    print(feature_importance)\n",
    "    \n",
    "    \n",
    "    print(f\"Total explained variance ratio: {sum(explained_variance):.2%}\")\n",
    "    print(\"\\nExplained variance ratio by component:\")\n",
    "    for i, var in enumerate(explained_variance):\n",
    "        print(f\"PC{i+1}: {var:.2%}\")\n",
    "    \n",
    "    print(f\"\\nTop {n} most important features:\")\n",
    "    top_n_features = feature_importance['Overall_Importance'].head(10)\n",
    "    print(top_n_features)\n",
    "    \n",
    "    # printing out the combinations\n",
    "    print(\"\\nPrincipal Component Linear Combinations:\")\n",
    "    \n",
    "    for pc in range(3): #only want to print the top three\n",
    "        print(f\"\\nPC{pc+1} = \", end=\"\")\n",
    "        # Get the components for this PC\n",
    "        coefficients = components[pc]\n",
    "        terms = []\n",
    "        for feat, coef in zip(features.columns, coefficients):\n",
    "            if abs(coef) > 0.1: #only print if higher than .1\n",
    "                terms.append(f\"({coef:.3f} × {feat})\")\n",
    "        print(\" + \".join(terms))\n",
    "    \n",
    "    return feature_importance, top_n_features"
   ]
  },
  {
   "cell_type": "code",
   "execution_count": 48,
   "metadata": {},
   "outputs": [],
   "source": [
    "def perform_kmeans_clustering(data_scaled, features, labels, n_components=2):\n",
    "    \"\"\"\n",
    "    Perform K-means clustering on PCA components using pre-scaled data\n",
    "    \n",
    "    Args:\n",
    "        data_scaled: scaled numpy array from StandardScaler\n",
    "        features: original features DataFrame\n",
    "        labels: target labels\n",
    "        n_components: number of PCA components to use\n",
    "    \"\"\"\n",
    "    print(\"\\nPerforming K-means clustering on PCA components...\")\n",
    "    \n",
    "    # PCA on scaled data\n",
    "    pca = PCA(n_components=n_components)\n",
    "    pc_features = pca.fit_transform(data_scaled)\n",
    "    \n",
    "    pca_df = pd.DataFrame(\n",
    "        data=pc_features,\n",
    "        columns=[f'PC{i+1}' for i in range(n_components)]\n",
    "    )\n",
    "    \n",
    "    # Split data\n",
    "    X_train, X_test, y_train, y_test = train_test_split(\n",
    "        pca_df, labels, test_size=0.1, random_state=42\n",
    "    )\n",
    "    \n",
    "    # K-means clustering\n",
    "    kmeans = KMeans(n_clusters=2, random_state=42)\n",
    "    kmeans.fit(X_train)\n",
    "    y_pred = kmeans.predict(X_test)\n",
    "    \n",
    "    # Evaluation metrics\n",
    "    cm = confusion_matrix(y_test, y_pred)\n",
    "    class_report = classification_report(y_test, y_pred)    \n",
    "    accuracy = accuracy_score(y_test, y_pred)    \n",
    "    return cm, class_report, accuracy\n"
   ]
  },
  {
   "cell_type": "code",
   "execution_count": 49,
   "metadata": {},
   "outputs": [
    {
     "name": "stdout",
     "output_type": "stream",
     "text": [
      "\n",
      "Performing K-means clustering on PCA components...\n",
      "\n",
      "Confusion Matrix Results:\n",
      "\n",
      "    True Negatives: 1436 (87.99%)\n",
      "    False Positives: 2 (0.12%)\n",
      "    False Negatives: 194 (11.89%)\n",
      "    True Positives: 0 (0.00%)\n",
      "    \n",
      "\n",
      "Classification Report:\n",
      "              precision    recall  f1-score   support\n",
      "\n",
      "           0       0.88      1.00      0.94      1438\n",
      "           1       0.00      0.00      0.00       194\n",
      "\n",
      "    accuracy                           0.88      1632\n",
      "   macro avg       0.44      0.50      0.47      1632\n",
      "weighted avg       0.78      0.88      0.82      1632\n",
      "\n",
      "\n",
      "Model Accuracy: 87.99%\n"
     ]
    }
   ],
   "source": [
    "cm, class_report, accuracy = perform_kmeans_clustering(data_scaled, features, data[label_column], n_components=3)\n",
    "\n",
    "print_classification_results(cm, class_report, accuracy)"
   ]
  },
  {
   "cell_type": "code",
   "execution_count": null,
   "metadata": {},
   "outputs": [],
   "source": [
    "# feature_importance, top_features = find_top_n_features(data_scaled, features, 10)\n"
   ]
  },
  {
   "cell_type": "code",
   "execution_count": null,
   "metadata": {},
   "outputs": [],
   "source": []
  },
  {
   "cell_type": "code",
   "execution_count": 50,
   "metadata": {},
   "outputs": [],
   "source": [
    "def train_random_forest(data_scaled, Labels, features, n_estimators):\n",
    "    print(f\"Training Random Forest with {n_estimators} estimators\")\n",
    "\n",
    "    X_train, X_test, y_train, y_test = train_test_split(data_scaled, Labels, test_size=0.3, random_state=42)\n",
    "\n",
    "    rf_classifier = RandomForestClassifier(n_estimators=n_estimators, random_state=42)\n",
    "    rf_classifier.fit(X_train, y_train)\n",
    "\n",
    "    # Make predictions\n",
    "    y_pred = rf_classifier.predict(X_test)\n",
    "\n",
    "    # Print classification report\n",
    "    print(\"\\nClassification Report:\")\n",
    "    print(classification_report(y_test, y_pred))\n",
    "\n",
    "    # Create confusion matrix\n",
    "    cm = confusion_matrix(y_test, y_pred)\n",
    "    class_report = classification_report(y_test, y_pred)    \n",
    "\n",
    "\n",
    "    feature_importance = pd.DataFrame({\n",
    "        'feature': features.columns,\n",
    "        'importance': rf_classifier.feature_importances_\n",
    "    })\n",
    "    feature_importance = feature_importance.sort_values('importance', ascending=False)\n",
    "\n",
    "    print(\"\\nTop 5 Most Important Features:\")\n",
    "    print(feature_importance.head(5))\n",
    "\n",
    "    # Calculate and print accuracy\n",
    "    accuracy = accuracy_score(y_test, y_pred)    \n",
    "\n",
    "    \n",
    "    return cm, class_report, accuracy "
   ]
  },
  {
   "cell_type": "code",
   "execution_count": 51,
   "metadata": {},
   "outputs": [
    {
     "name": "stdout",
     "output_type": "stream",
     "text": [
      "Training Random Forest with 100 estimators\n",
      "\n",
      "Classification Report:\n",
      "              precision    recall  f1-score   support\n",
      "\n",
      "           0       0.93      1.00      0.96      4252\n",
      "           1       0.97      0.51      0.67       644\n",
      "\n",
      "    accuracy                           0.93      4896\n",
      "   macro avg       0.95      0.76      0.82      4896\n",
      "weighted avg       0.94      0.93      0.92      4896\n",
      "\n",
      "\n",
      "Top 5 Most Important Features:\n",
      "      feature  importance\n",
      "8     DIntPkt       0.134\n",
      "21       Load       0.096\n",
      "12  DstJitter       0.094\n",
      "17        Dur       0.086\n",
      "3     SrcLoad       0.082\n",
      "\n",
      "Confusion Matrix Results:\n",
      "\n",
      "    True Negatives: 4241 (86.62%)\n",
      "    False Positives: 11 (0.22%)\n",
      "    False Negatives: 313 (6.39%)\n",
      "    True Positives: 331 (6.76%)\n",
      "    \n",
      "\n",
      "Classification Report:\n",
      "              precision    recall  f1-score   support\n",
      "\n",
      "           0       0.93      1.00      0.96      4252\n",
      "           1       0.97      0.51      0.67       644\n",
      "\n",
      "    accuracy                           0.93      4896\n",
      "   macro avg       0.95      0.76      0.82      4896\n",
      "weighted avg       0.94      0.93      0.92      4896\n",
      "\n",
      "\n",
      "Model Accuracy: 93.38%\n"
     ]
    }
   ],
   "source": [
    "forest_cm, forest_report, forest_accuracy = train_random_forest(data_scaled, Labels, features, 100)\n",
    "\n",
    "print_classification_results(forest_cm, forest_report, forest_accuracy)"
   ]
  }
 ],
 "metadata": {
  "kernelspec": {
   "display_name": "Python 3",
   "language": "python",
   "name": "python3"
  },
  "language_info": {
   "codemirror_mode": {
    "name": "ipython",
    "version": 3
   },
   "file_extension": ".py",
   "mimetype": "text/x-python",
   "name": "python",
   "nbconvert_exporter": "python",
   "pygments_lexer": "ipython3",
   "version": "3.12.0"
  }
 },
 "nbformat": 4,
 "nbformat_minor": 2
}
